{
 "cells": [
  {
   "cell_type": "code",
   "execution_count": 1,
   "metadata": {},
   "outputs": [
    {
     "name": "stdout",
     "output_type": "stream",
     "text": [
      "Standard Deviation = 367.9900360969936\n"
     ]
    }
   ],
   "source": [
    "# Task 1:\n",
    "# 1. You survey households in your area to find the average rent they are paying. Find the\n",
    "# standard deviation from the following data:\n",
    "# $1550, $1700, $900, $850, $1000, $950.\n",
    "\n",
    "import statistics as stat\n",
    "\n",
    "avg_rent=[1550, 1700, 900, 850, 1000, 950]\n",
    "\n",
    "print(\"Standard Deviation = \"+str(stat.stdev(avg_rent)))\n",
    "\n"
   ]
  },
  {
   "cell_type": "code",
   "execution_count": 2,
   "metadata": {},
   "outputs": [
    {
     "name": "stdout",
     "output_type": "stream",
     "text": [
      "Variance = 6219.9\n",
      "Standard Deviation = 78.86634263106157\n"
     ]
    }
   ],
   "source": [
    "# 2. Find the variance for the following set of data representing trees in California (heights in\n",
    "# feet):\n",
    "# 3, 21, 98, 203, 17, 9\n",
    "\n",
    "avg_rent=[3, 21, 98, 203, 17, 9]\n",
    "\n",
    "print(\"Variance = \"+str(stat.variance(avg_rent)))\n",
    "print(\"Standard Deviation = \"+str(stat.stdev(avg_rent)))"
   ]
  },
  {
   "cell_type": "code",
   "execution_count": 3,
   "metadata": {},
   "outputs": [
    {
     "data": {
      "text/html": [
       "<div>\n",
       "<style scoped>\n",
       "    .dataframe tbody tr th:only-of-type {\n",
       "        vertical-align: middle;\n",
       "    }\n",
       "\n",
       "    .dataframe tbody tr th {\n",
       "        vertical-align: top;\n",
       "    }\n",
       "\n",
       "    .dataframe thead th {\n",
       "        text-align: right;\n",
       "    }\n",
       "</style>\n",
       "<table border=\"1\" class=\"dataframe\">\n",
       "  <thead>\n",
       "    <tr style=\"text-align: right;\">\n",
       "      <th></th>\n",
       "      <th>0_Subject</th>\n",
       "      <th>1_Subject</th>\n",
       "      <th>2_Subject</th>\n",
       "      <th>3_Subject</th>\n",
       "    </tr>\n",
       "  </thead>\n",
       "  <tbody>\n",
       "    <tr>\n",
       "      <th>X</th>\n",
       "      <td>80.0</td>\n",
       "      <td>10.0</td>\n",
       "      <td>7.00</td>\n",
       "      <td>3.00</td>\n",
       "    </tr>\n",
       "    <tr>\n",
       "      <th>P(X)</th>\n",
       "      <td>0.8</td>\n",
       "      <td>0.1</td>\n",
       "      <td>0.07</td>\n",
       "      <td>0.03</td>\n",
       "    </tr>\n",
       "  </tbody>\n",
       "</table>\n",
       "</div>"
      ],
      "text/plain": [
       "      0_Subject  1_Subject  2_Subject  3_Subject\n",
       "X          80.0       10.0       7.00       3.00\n",
       "P(X)        0.8        0.1       0.07       0.03"
      ]
     },
     "execution_count": 3,
     "metadata": {},
     "output_type": "execute_result"
    }
   ],
   "source": [
    "# 3. In a class on 100 students, 80 students passed in all subjects, 10 failed in one subject, 7 failed\n",
    "# in two subjects and 3 failed in three subjects. Find the probability distribution of the variable for\n",
    "# number of subjects a student from the given class has failed in.\n",
    "import pandas as pd\n",
    "\n",
    "listfail=[0,1,2,3]\n",
    "liststud=[80,10,7,3]\n",
    "\n",
    "matrix_data = [[80,10,7,3]]\n",
    "row_labels = ['X','P(X)']\n",
    "column_headings = ['0_Subject','1_Subject','2_Subject','3_Subject']\n",
    "\n",
    "df = pd.DataFrame(data=matrix_data, index=row_labels, columns=column_headings)\n",
    "sum=df[df.columns].sum(axis=1)[0]\n",
    "df.iloc[1]=df.iloc[:].values[0] / sum\n",
    "df\n"
   ]
  },
  {
   "cell_type": "code",
   "execution_count": 4,
   "metadata": {},
   "outputs": [
    {
     "name": "stdout",
     "output_type": "stream",
     "text": [
      "The probability that a person undertaking that test has answered exactly 5 questions wrong is: 0.00000343\n",
      "The probability that a person undertaking that test has answered exactly 5 questions wrong is: 0.00000343\n"
     ]
    }
   ],
   "source": [
    "# Task 2:\n",
    "# 1. A test is conducted which is consisting of 20 MCQs (multiple choices questions) with every\n",
    "# MCQ having its four options out of which only one is correct. Determine the probability that a\n",
    "# person undertaking that test has answered exactly 5 questions wrong.\n",
    "\n",
    "\n",
    "import numpy as np\n",
    "import math\n",
    "from scipy.stats import binom\n",
    "\n",
    "k=15 # Correct Answers\n",
    "n=20 # Total Questions in MCQ\n",
    "p=(1/4) # propaility of right answer for a given question\n",
    "\n",
    "# Using Binom Method\n",
    "probs=binom.pmf(k,n,p)\n",
    "print('The probability that a person undertaking that test has answered exactly 5 questions wrong is: %.8f' % (probs))\n",
    "\n",
    "# Using Binomial Math Formula\n",
    "# P(x) = n! / x!(n-x)! * (p**x) * (1-p)**(n-x)\n",
    "prob = (math.factorial(n)/(math.factorial(k)*math.factorial(n-k)))*(p**15)*((1-p)**5)\n",
    "print('The probability that a person undertaking that test has answered exactly 5 questions wrong is: %.8f' % (prob))"
   ]
  },
  {
   "cell_type": "code",
   "execution_count": 5,
   "metadata": {},
   "outputs": [
    {
     "name": "stdout",
     "output_type": "stream",
     "text": [
      "The probability of getting a D exactly 5 times:: 0.02953120\n",
      "The probability of getting a D exactly 5 times: 0.029531204310523224\n"
     ]
    }
   ],
   "source": [
    "# 2. A die marked A to E is rolled 50 times. Find the probability of getting a “D” exactly 5 times.\n",
    "\n",
    "\n",
    "import numpy as np\n",
    "import math\n",
    "from scipy.stats import binom\n",
    "\n",
    "k=5 # Correct attempts as \"D\"\n",
    "n=50 # Total number of trials\n",
    "p=(1/5) # propaility of \"D\" five times\n",
    "\n",
    "# Using Binom Method\n",
    "probs=binom.pmf(k,n,p)\n",
    "print('The probability of getting a D exactly 5 times:: %.8f' % (probs))\n",
    "\n",
    "# Using Binomial Math Formula\n",
    "# P(x) = n! / x!(n-x)! * (p**x) * (1-p)**(n-x)\n",
    "prob_five_D = (math.factorial(n)/(math.factorial(k)* math.factorial(n-k)))*(p**5)*((1-p)**45) \n",
    "print(\"The probability of getting a D exactly 5 times:\",probs)\n"
   ]
  },
  {
   "cell_type": "code",
   "execution_count": 10,
   "metadata": {},
   "outputs": [
    {
     "name": "stdout",
     "output_type": "stream",
     "text": [
      "Probability of 2 balls are drawn at random in succession without replacement and both are red balls:  0.13333333333333333\n",
      "Probability of 2 balls are drawn at random in succession without replacement and both are black balls:  0.3333333333333333\n",
      "Probability of 2 balls are drawn at random in succession without replacement and one is black and one red ball:  0.5333333333333333\n"
     ]
    }
   ],
   "source": [
    "# 3. Two balls are drawn at random in succession without replacement from an urn containing 4\n",
    "# red balls and 6 black balls.\n",
    "# Find the probabilities of all the possible outcomes.\n",
    "\n",
    "import math\n",
    "n = 10 #Total number of balls = 4 red balls + 6 black balls\n",
    "k = 2  #Given, Two balls are drawn\n",
    "\n",
    "#Defining the function with returns the combination\n",
    "def calc_combination(p,q):\n",
    "    return math.factorial(p)/(math.factorial(q)*math.factorial(p-q))\n",
    "\n",
    "#All possible outcomes: RR, BB, RB or BR\n",
    "\n",
    "#Probability of two balls drawn at random in succession without replacement and both are red balls P(RR)=C(4,2)*C(6,0)/C(10,2)\n",
    "prob_RR = calc_combination(4,2)*calc_combination(6,0)/calc_combination(10,2)\n",
    "print(\"Probability of 2 balls are drawn at random in succession without replacement and both are red balls: \",prob_RR)\n",
    "\n",
    "#Probability of two balls drawn at random in succession without replacement and both are black balls P(BB)=C(6,2)*C(4,0)/C(10,2)\n",
    "prob_BB = calc_combination(6,2)*calc_combination(4,0)/calc_combination(10,2) \n",
    "print(\"Probability of 2 balls are drawn at random in succession without replacement and both are black balls: \",prob_BB)\n",
    "\n",
    "#Probability of two balls drawn at random in succession without replacement and one is black ball and other is red ball P(BR)=C(6,1)*C(4,1)/C(10,2)\n",
    "prob_BR = calc_combination(6,1)*calc_combination(4,1)/calc_combination(10,2) \n",
    "print(\"Probability of 2 balls are drawn at random in succession without replacement and one is black and one red ball: \",prob_BR)"
   ]
  },
  {
   "cell_type": "code",
   "execution_count": null,
   "metadata": {
    "collapsed": true
   },
   "outputs": [],
   "source": []
  }
 ],
 "metadata": {
  "kernelspec": {
   "display_name": "Python 3",
   "language": "python",
   "name": "python3"
  },
  "language_info": {
   "codemirror_mode": {
    "name": "ipython",
    "version": 3
   },
   "file_extension": ".py",
   "mimetype": "text/x-python",
   "name": "python",
   "nbconvert_exporter": "python",
   "pygments_lexer": "ipython3",
   "version": "3.7.0"
  }
 },
 "nbformat": 4,
 "nbformat_minor": 2
}
